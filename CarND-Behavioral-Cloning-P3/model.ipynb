{
 "cells": [
  {
   "cell_type": "code",
   "execution_count": 2,
   "metadata": {},
   "outputs": [
    {
     "name": "stderr",
     "output_type": "stream",
     "text": [
      "C:\\Users\\Willie\\Anaconda3\\envs\\tensorflow-gpu\\lib\\site-packages\\h5py\\__init__.py:36: FutureWarning: Conversion of the second argument of issubdtype from `float` to `np.floating` is deprecated. In future, it will be treated as `np.float64 == np.dtype(float).type`.\n",
      "  from ._conv import register_converters as _register_converters\n",
      "Using TensorFlow backend.\n"
     ]
    }
   ],
   "source": [
    "import math\n",
    "import numpy as np\n",
    "import cv2\n",
    "import matplotlib.pyplot as plt\n",
    "from os import getcwd\n",
    "import csv\n",
    "import tensorflow as tf\n",
    "import argparse as _argparse\n",
    "import pandas as pd\n",
    "import seaborn as sb\n",
    "import os\n",
    "import h5py\n",
    "import random\n",
    "import glob\n",
    "\n",
    "\n",
    "from keras.models import Sequential, model_from_json, load_model\n",
    "from keras.layers.core import Dense, Activation, Flatten, Dropout, Lambda\n",
    "from keras.layers.convolutional import Convolution2D\n",
    "from keras.layers.pooling import MaxPooling2D\n",
    "from keras.layers.advanced_activations import ELU\n",
    "from keras.layers import Cropping2D\n",
    "from keras.regularizers import l2\n",
    "from keras.optimizers import Adam\n",
    "from keras.callbacks import ModelCheckpoint, Callback\n",
    "from sklearn.model_selection import train_test_split\n",
    "from sklearn.utils import shuffle"
   ]
  },
  {
   "cell_type": "code",
   "execution_count": 3,
   "metadata": {
    "collapsed": true
   },
   "outputs": [],
   "source": [
    "tf.app.flags._global_parser = _argparse.ArgumentParser() #reset flags\n",
    "flags = tf.app.flags\n",
    "FLAGS = flags.FLAGS\n",
    "\n",
    "#flags.DEFINE_string('data_path', 'drive_data0/driving_log.csv', 'The path to the csv of training data.')\n",
    "flags.DEFINE_string('save_dir', 'models/', 'The directory to which to save the model.')\n",
    "flags.DEFINE_integer('batch_size', 128, 'The minibatch size.')\n",
    "flags.DEFINE_integer('num_epochs', 10, 'The number of epochs to train for.')\n",
    "flags.DEFINE_float('lrate', 0.00001, 'The learning rate for training.')"
   ]
  },
  {
   "cell_type": "code",
   "execution_count": 4,
   "metadata": {},
   "outputs": [
    {
     "name": "stdout",
     "output_type": "stream",
     "text": [
      "[]\n"
     ]
    }
   ],
   "source": [
    "import glob\n",
    "print(glob.glob(\"driving_log*/*.csv\"))"
   ]
  },
  {
   "cell_type": "code",
   "execution_count": 5,
   "metadata": {
    "collapsed": true
   },
   "outputs": [],
   "source": [
    "def combine_data():\n",
    "    paths = glob.glob(\"drive_data*\")\n",
    "    all_data = pd.DataFrame()\n",
    "    for path in paths:\n",
    "        data = pd.read_csv(path + \"/\" + \"driving_log.csv\")\n",
    "        data.columns = ['center', 'left','right','steering','throttle','brake','speed']\n",
    "        data['file_path'] = path\n",
    "        all_data = all_data.append(data)   \n",
    "    return all_data\n",
    "\n",
    "driving_log = combine_data()"
   ]
  },
  {
   "cell_type": "code",
   "execution_count": 6,
   "metadata": {
    "collapsed": true
   },
   "outputs": [],
   "source": [
    "#driving_log = pd.read_csv(FLAGS.data_path) #read in the csv"
   ]
  },
  {
   "cell_type": "code",
   "execution_count": 7,
   "metadata": {},
   "outputs": [
    {
     "data": {
      "text/html": [
       "<div>\n",
       "<style scoped>\n",
       "    .dataframe tbody tr th:only-of-type {\n",
       "        vertical-align: middle;\n",
       "    }\n",
       "\n",
       "    .dataframe tbody tr th {\n",
       "        vertical-align: top;\n",
       "    }\n",
       "\n",
       "    .dataframe thead th {\n",
       "        text-align: right;\n",
       "    }\n",
       "</style>\n",
       "<table border=\"1\" class=\"dataframe\">\n",
       "  <thead>\n",
       "    <tr style=\"text-align: right;\">\n",
       "      <th></th>\n",
       "      <th>center</th>\n",
       "      <th>left</th>\n",
       "      <th>right</th>\n",
       "      <th>steering</th>\n",
       "      <th>throttle</th>\n",
       "      <th>brake</th>\n",
       "      <th>speed</th>\n",
       "      <th>file_path</th>\n",
       "    </tr>\n",
       "  </thead>\n",
       "  <tbody>\n",
       "    <tr>\n",
       "      <th>0</th>\n",
       "      <td>IMG/center_2016_12_01_13_30_48_287.jpg</td>\n",
       "      <td>IMG/left_2016_12_01_13_30_48_287.jpg</td>\n",
       "      <td>IMG/right_2016_12_01_13_30_48_287.jpg</td>\n",
       "      <td>0.0</td>\n",
       "      <td>0.0</td>\n",
       "      <td>0.0</td>\n",
       "      <td>22.148290</td>\n",
       "      <td>drive_data0</td>\n",
       "    </tr>\n",
       "    <tr>\n",
       "      <th>1</th>\n",
       "      <td>IMG/center_2016_12_01_13_30_48_404.jpg</td>\n",
       "      <td>IMG/left_2016_12_01_13_30_48_404.jpg</td>\n",
       "      <td>IMG/right_2016_12_01_13_30_48_404.jpg</td>\n",
       "      <td>0.0</td>\n",
       "      <td>0.0</td>\n",
       "      <td>0.0</td>\n",
       "      <td>21.879630</td>\n",
       "      <td>drive_data0</td>\n",
       "    </tr>\n",
       "    <tr>\n",
       "      <th>2</th>\n",
       "      <td>IMG/center_2016_12_01_13_31_12_937.jpg</td>\n",
       "      <td>IMG/left_2016_12_01_13_31_12_937.jpg</td>\n",
       "      <td>IMG/right_2016_12_01_13_31_12_937.jpg</td>\n",
       "      <td>0.0</td>\n",
       "      <td>0.0</td>\n",
       "      <td>0.0</td>\n",
       "      <td>1.453011</td>\n",
       "      <td>drive_data0</td>\n",
       "    </tr>\n",
       "    <tr>\n",
       "      <th>3</th>\n",
       "      <td>IMG/center_2016_12_01_13_31_13_037.jpg</td>\n",
       "      <td>IMG/left_2016_12_01_13_31_13_037.jpg</td>\n",
       "      <td>IMG/right_2016_12_01_13_31_13_037.jpg</td>\n",
       "      <td>0.0</td>\n",
       "      <td>0.0</td>\n",
       "      <td>0.0</td>\n",
       "      <td>1.438419</td>\n",
       "      <td>drive_data0</td>\n",
       "    </tr>\n",
       "    <tr>\n",
       "      <th>4</th>\n",
       "      <td>IMG/center_2016_12_01_13_31_13_177.jpg</td>\n",
       "      <td>IMG/left_2016_12_01_13_31_13_177.jpg</td>\n",
       "      <td>IMG/right_2016_12_01_13_31_13_177.jpg</td>\n",
       "      <td>0.0</td>\n",
       "      <td>0.0</td>\n",
       "      <td>0.0</td>\n",
       "      <td>1.418236</td>\n",
       "      <td>drive_data0</td>\n",
       "    </tr>\n",
       "  </tbody>\n",
       "</table>\n",
       "</div>"
      ],
      "text/plain": [
       "                                   center  \\\n",
       "0  IMG/center_2016_12_01_13_30_48_287.jpg   \n",
       "1  IMG/center_2016_12_01_13_30_48_404.jpg   \n",
       "2  IMG/center_2016_12_01_13_31_12_937.jpg   \n",
       "3  IMG/center_2016_12_01_13_31_13_037.jpg   \n",
       "4  IMG/center_2016_12_01_13_31_13_177.jpg   \n",
       "\n",
       "                                    left  \\\n",
       "0   IMG/left_2016_12_01_13_30_48_287.jpg   \n",
       "1   IMG/left_2016_12_01_13_30_48_404.jpg   \n",
       "2   IMG/left_2016_12_01_13_31_12_937.jpg   \n",
       "3   IMG/left_2016_12_01_13_31_13_037.jpg   \n",
       "4   IMG/left_2016_12_01_13_31_13_177.jpg   \n",
       "\n",
       "                                    right  steering  throttle  brake  \\\n",
       "0   IMG/right_2016_12_01_13_30_48_287.jpg       0.0       0.0    0.0   \n",
       "1   IMG/right_2016_12_01_13_30_48_404.jpg       0.0       0.0    0.0   \n",
       "2   IMG/right_2016_12_01_13_31_12_937.jpg       0.0       0.0    0.0   \n",
       "3   IMG/right_2016_12_01_13_31_13_037.jpg       0.0       0.0    0.0   \n",
       "4   IMG/right_2016_12_01_13_31_13_177.jpg       0.0       0.0    0.0   \n",
       "\n",
       "       speed    file_path  \n",
       "0  22.148290  drive_data0  \n",
       "1  21.879630  drive_data0  \n",
       "2   1.453011  drive_data0  \n",
       "3   1.438419  drive_data0  \n",
       "4   1.418236  drive_data0  "
      ]
     },
     "execution_count": 7,
     "metadata": {},
     "output_type": "execute_result"
    }
   ],
   "source": [
    "driving_log.head()"
   ]
  },
  {
   "cell_type": "code",
   "execution_count": 8,
   "metadata": {},
   "outputs": [
    {
     "data": {
      "text/plain": [
       "(13543, 8)"
      ]
     },
     "execution_count": 8,
     "metadata": {},
     "output_type": "execute_result"
    }
   ],
   "source": [
    "driving_log.shape"
   ]
  },
  {
   "cell_type": "code",
   "execution_count": 9,
   "metadata": {
    "collapsed": true
   },
   "outputs": [],
   "source": [
    "angles = driving_log['steering'] #for visualization"
   ]
  },
  {
   "cell_type": "code",
   "execution_count": 10,
   "metadata": {},
   "outputs": [
    {
     "data": {
      "text/plain": [
       "<matplotlib.axes._subplots.AxesSubplot at 0x25b57c74400>"
      ]
     },
     "execution_count": 10,
     "metadata": {},
     "output_type": "execute_result"
    },
    {
     "data": {
      "image/png": "[encoded data removed]",
      "text/plain": [
       "<matplotlib.figure.Figure at 0x25b57c6c358>"
      ]
     },
     "metadata": {},
     "output_type": "display_data"
    }
   ],
   "source": [
    "sb.set(rc={'figure.figsize':(13,5)})\n",
    "sb.distplot(angles, bins=20, kde=False)"
   ]
  },
  {
   "cell_type": "code",
   "execution_count": 11,
   "metadata": {
    "collapsed": true
   },
   "outputs": [],
   "source": [
    "def randomly_drop_low_steering_data(data):\n",
    "    \"\"\" Randomly decrease data having\n",
    "    low steering angle\n",
    "    \"\"\"\n",
    "    index = data[abs(data['steering'])<.05].index.tolist()\n",
    "    rows = [i for i in index if np.random.randint(10) < 8]\n",
    "    data = data.drop(data.index[rows])\n",
    "    print(\"Dropped %s rows with low steering\"%(len(rows)))\n",
    "    return data"
   ]
  },
  {
   "cell_type": "code",
   "execution_count": 12,
   "metadata": {},
   "outputs": [
    {
     "name": "stdout",
     "output_type": "stream",
     "text": [
      "Dropped 5606 rows with low steering\n"
     ]
    }
   ],
   "source": [
    "driving_log = randomly_drop_low_steering_data(driving_log)"
   ]
  },
  {
   "cell_type": "code",
   "execution_count": 13,
   "metadata": {},
   "outputs": [
    {
     "data": {
      "text/plain": [
       "<matplotlib.axes._subplots.AxesSubplot at 0x25b58eaca58>"
      ]
     },
     "execution_count": 13,
     "metadata": {},
     "output_type": "execute_result"
    },
    {
     "data": {
      "image/png": "[encoded data removed]",
      "text/plain": [
       "<matplotlib.figure.Figure at 0x25b593be940>"
      ]
     },
     "metadata": {},
     "output_type": "display_data"
    }
   ],
   "source": [
    "angles = driving_log['steering'] #for visualization\n",
    "sb.distplot(angles, bins=20, kde=False)"
   ]
  },
  {
   "cell_type": "code",
   "execution_count": 14,
   "metadata": {
    "collapsed": true
   },
   "outputs": [],
   "source": [
    "# Split train and validation data\n",
    "train, test = train_test_split(driving_log, test_size=0.05, random_state=42)"
   ]
  },
  {
   "cell_type": "code",
   "execution_count": 15,
   "metadata": {},
   "outputs": [
    {
     "name": "stdout",
     "output_type": "stream",
     "text": [
      "(4351, 8)\n",
      "(229, 8)\n"
     ]
    }
   ],
   "source": [
    "print(train.shape)\n",
    "print(test.shape)"
   ]
  },
  {
   "cell_type": "code",
   "execution_count": 16,
   "metadata": {},
   "outputs": [
    {
     "data": {
      "text/html": [
       "<div>\n",
       "<style scoped>\n",
       "    .dataframe tbody tr th:only-of-type {\n",
       "        vertical-align: middle;\n",
       "    }\n",
       "\n",
       "    .dataframe tbody tr th {\n",
       "        vertical-align: top;\n",
       "    }\n",
       "\n",
       "    .dataframe thead th {\n",
       "        text-align: right;\n",
       "    }\n",
       "</style>\n",
       "<table border=\"1\" class=\"dataframe\">\n",
       "  <thead>\n",
       "    <tr style=\"text-align: right;\">\n",
       "      <th></th>\n",
       "      <th>center</th>\n",
       "      <th>left</th>\n",
       "      <th>right</th>\n",
       "      <th>steering</th>\n",
       "      <th>throttle</th>\n",
       "      <th>brake</th>\n",
       "      <th>speed</th>\n",
       "      <th>file_path</th>\n",
       "    </tr>\n",
       "  </thead>\n",
       "  <tbody>\n",
       "    <tr>\n",
       "      <th>2906</th>\n",
       "      <td>IMG/center_2016_12_01_13_37_32_778.jpg</td>\n",
       "      <td>IMG/left_2016_12_01_13_37_32_778.jpg</td>\n",
       "      <td>IMG/right_2016_12_01_13_37_32_778.jpg</td>\n",
       "      <td>0.000000</td>\n",
       "      <td>0.985533</td>\n",
       "      <td>0.0</td>\n",
       "      <td>30.18663</td>\n",
       "      <td>drive_data0</td>\n",
       "    </tr>\n",
       "    <tr>\n",
       "      <th>4381</th>\n",
       "      <td>IMG/center_2016_12_01_13_40_02_347.jpg</td>\n",
       "      <td>IMG/left_2016_12_01_13_40_02_347.jpg</td>\n",
       "      <td>IMG/right_2016_12_01_13_40_02_347.jpg</td>\n",
       "      <td>0.090465</td>\n",
       "      <td>0.985533</td>\n",
       "      <td>0.0</td>\n",
       "      <td>30.18628</td>\n",
       "      <td>drive_data0</td>\n",
       "    </tr>\n",
       "    <tr>\n",
       "      <th>3651</th>\n",
       "      <td>IMG/center_2016_12_01_13_38_48_278.jpg</td>\n",
       "      <td>IMG/left_2016_12_01_13_38_48_278.jpg</td>\n",
       "      <td>IMG/right_2016_12_01_13_38_48_278.jpg</td>\n",
       "      <td>0.176582</td>\n",
       "      <td>0.000000</td>\n",
       "      <td>0.0</td>\n",
       "      <td>10.84668</td>\n",
       "      <td>drive_data0</td>\n",
       "    </tr>\n",
       "    <tr>\n",
       "      <th>575</th>\n",
       "      <td>IMG/center_2016_12_01_13_33_36_500.jpg</td>\n",
       "      <td>IMG/left_2016_12_01_13_33_36_500.jpg</td>\n",
       "      <td>IMG/right_2016_12_01_13_33_36_500.jpg</td>\n",
       "      <td>0.000000</td>\n",
       "      <td>0.985533</td>\n",
       "      <td>0.0</td>\n",
       "      <td>30.18662</td>\n",
       "      <td>drive_data0</td>\n",
       "    </tr>\n",
       "    <tr>\n",
       "      <th>6185</th>\n",
       "      <td>IMG/center_2016_12_01_13_43_34_096.jpg</td>\n",
       "      <td>IMG/left_2016_12_01_13_43_34_096.jpg</td>\n",
       "      <td>IMG/right_2016_12_01_13_43_34_096.jpg</td>\n",
       "      <td>-0.373071</td>\n",
       "      <td>0.985533</td>\n",
       "      <td>0.0</td>\n",
       "      <td>30.18020</td>\n",
       "      <td>drive_data0</td>\n",
       "    </tr>\n",
       "    <tr>\n",
       "      <th>4071</th>\n",
       "      <td>IMG/center_2016_12_01_13_39_30_863.jpg</td>\n",
       "      <td>IMG/left_2016_12_01_13_39_30_863.jpg</td>\n",
       "      <td>IMG/right_2016_12_01_13_39_30_863.jpg</td>\n",
       "      <td>0.176582</td>\n",
       "      <td>0.793422</td>\n",
       "      <td>0.0</td>\n",
       "      <td>29.36285</td>\n",
       "      <td>drive_data0</td>\n",
       "    </tr>\n",
       "    <tr>\n",
       "      <th>2381</th>\n",
       "      <td>C:\\Users\\Willie\\Desktop\\driving_data\\IMG\\cente...</td>\n",
       "      <td>C:\\Users\\Willie\\Desktop\\driving_data\\IMG\\left_...</td>\n",
       "      <td>C:\\Users\\Willie\\Desktop\\driving_data\\IMG\\right...</td>\n",
       "      <td>0.281690</td>\n",
       "      <td>0.000000</td>\n",
       "      <td>0.0</td>\n",
       "      <td>26.70351</td>\n",
       "      <td>drive_data2</td>\n",
       "    </tr>\n",
       "    <tr>\n",
       "      <th>5522</th>\n",
       "      <td>IMG/center_2016_12_01_13_42_26_883.jpg</td>\n",
       "      <td>IMG/left_2016_12_01_13_42_26_883.jpg</td>\n",
       "      <td>IMG/right_2016_12_01_13_42_26_883.jpg</td>\n",
       "      <td>-0.211667</td>\n",
       "      <td>0.985533</td>\n",
       "      <td>0.0</td>\n",
       "      <td>30.18462</td>\n",
       "      <td>drive_data0</td>\n",
       "    </tr>\n",
       "    <tr>\n",
       "      <th>7012</th>\n",
       "      <td>IMG/center_2016_12_01_13_44_57_985.jpg</td>\n",
       "      <td>IMG/left_2016_12_01_13_44_57_985.jpg</td>\n",
       "      <td>IMG/right_2016_12_01_13_44_57_985.jpg</td>\n",
       "      <td>-0.278127</td>\n",
       "      <td>0.985533</td>\n",
       "      <td>0.0</td>\n",
       "      <td>30.18413</td>\n",
       "      <td>drive_data0</td>\n",
       "    </tr>\n",
       "    <tr>\n",
       "      <th>2228</th>\n",
       "      <td>IMG/center_2016_12_01_13_36_24_064.jpg</td>\n",
       "      <td>IMG/left_2016_12_01_13_36_24_064.jpg</td>\n",
       "      <td>IMG/right_2016_12_01_13_36_24_064.jpg</td>\n",
       "      <td>0.052191</td>\n",
       "      <td>0.985533</td>\n",
       "      <td>0.0</td>\n",
       "      <td>30.18658</td>\n",
       "      <td>drive_data0</td>\n",
       "    </tr>\n",
       "    <tr>\n",
       "      <th>249</th>\n",
       "      <td>C:\\Users\\Willie\\Desktop\\driving_data\\IMG\\cente...</td>\n",
       "      <td>C:\\Users\\Willie\\Desktop\\driving_data\\IMG\\left_...</td>\n",
       "      <td>C:\\Users\\Willie\\Desktop\\driving_data\\IMG\\right...</td>\n",
       "      <td>-0.713615</td>\n",
       "      <td>1.000000</td>\n",
       "      <td>0.0</td>\n",
       "      <td>30.17643</td>\n",
       "      <td>drive_data2</td>\n",
       "    </tr>\n",
       "    <tr>\n",
       "      <th>2146</th>\n",
       "      <td>C:\\Users\\Willie\\Desktop\\drive_data\\IMG\\center_...</td>\n",
       "      <td>C:\\Users\\Willie\\Desktop\\drive_data\\IMG\\left_20...</td>\n",
       "      <td>C:\\Users\\Willie\\Desktop\\drive_data\\IMG\\right_2...</td>\n",
       "      <td>-0.056338</td>\n",
       "      <td>1.000000</td>\n",
       "      <td>0.0</td>\n",
       "      <td>30.19009</td>\n",
       "      <td>drive_data1</td>\n",
       "    </tr>\n",
       "    <tr>\n",
       "      <th>2436</th>\n",
       "      <td>C:\\Users\\Willie\\Desktop\\drive_data\\IMG\\center_...</td>\n",
       "      <td>C:\\Users\\Willie\\Desktop\\drive_data\\IMG\\left_20...</td>\n",
       "      <td>C:\\Users\\Willie\\Desktop\\drive_data\\IMG\\right_2...</td>\n",
       "      <td>-0.065728</td>\n",
       "      <td>1.000000</td>\n",
       "      <td>0.0</td>\n",
       "      <td>30.19040</td>\n",
       "      <td>drive_data1</td>\n",
       "    </tr>\n",
       "    <tr>\n",
       "      <th>1066</th>\n",
       "      <td>C:\\Users\\Willie\\Desktop\\driving_data\\IMG\\cente...</td>\n",
       "      <td>C:\\Users\\Willie\\Desktop\\driving_data\\IMG\\left_...</td>\n",
       "      <td>C:\\Users\\Willie\\Desktop\\driving_data\\IMG\\right...</td>\n",
       "      <td>-0.615023</td>\n",
       "      <td>0.059949</td>\n",
       "      <td>0.0</td>\n",
       "      <td>28.87677</td>\n",
       "      <td>drive_data2</td>\n",
       "    </tr>\n",
       "    <tr>\n",
       "      <th>266</th>\n",
       "      <td>IMG/center_2016_12_01_13_33_05_194.jpg</td>\n",
       "      <td>IMG/left_2016_12_01_13_33_05_194.jpg</td>\n",
       "      <td>IMG/right_2016_12_01_13_33_05_194.jpg</td>\n",
       "      <td>0.128740</td>\n",
       "      <td>0.985533</td>\n",
       "      <td>0.0</td>\n",
       "      <td>30.18618</td>\n",
       "      <td>drive_data0</td>\n",
       "    </tr>\n",
       "    <tr>\n",
       "      <th>5652</th>\n",
       "      <td>IMG/center_2016_12_01_13_42_40_048.jpg</td>\n",
       "      <td>IMG/left_2016_12_01_13_42_40_048.jpg</td>\n",
       "      <td>IMG/right_2016_12_01_13_42_40_048.jpg</td>\n",
       "      <td>-0.078746</td>\n",
       "      <td>0.985533</td>\n",
       "      <td>0.0</td>\n",
       "      <td>30.18704</td>\n",
       "      <td>drive_data0</td>\n",
       "    </tr>\n",
       "    <tr>\n",
       "      <th>5339</th>\n",
       "      <td>IMG/center_2016_12_01_13_42_08_299.jpg</td>\n",
       "      <td>IMG/left_2016_12_01_13_42_08_299.jpg</td>\n",
       "      <td>IMG/right_2016_12_01_13_42_08_299.jpg</td>\n",
       "      <td>-0.173689</td>\n",
       "      <td>0.985533</td>\n",
       "      <td>0.0</td>\n",
       "      <td>30.18347</td>\n",
       "      <td>drive_data0</td>\n",
       "    </tr>\n",
       "    <tr>\n",
       "      <th>4344</th>\n",
       "      <td>IMG/center_2016_12_01_13_39_58_587.jpg</td>\n",
       "      <td>IMG/left_2016_12_01_13_39_58_587.jpg</td>\n",
       "      <td>IMG/right_2016_12_01_13_39_58_587.jpg</td>\n",
       "      <td>-0.382565</td>\n",
       "      <td>0.918318</td>\n",
       "      <td>0.0</td>\n",
       "      <td>30.17204</td>\n",
       "      <td>drive_data0</td>\n",
       "    </tr>\n",
       "    <tr>\n",
       "      <th>6636</th>\n",
       "      <td>IMG/center_2016_12_01_13_44_19_849.jpg</td>\n",
       "      <td>IMG/left_2016_12_01_13_44_19_849.jpg</td>\n",
       "      <td>IMG/right_2016_12_01_13_44_19_849.jpg</td>\n",
       "      <td>-0.116723</td>\n",
       "      <td>0.985533</td>\n",
       "      <td>0.0</td>\n",
       "      <td>30.18633</td>\n",
       "      <td>drive_data0</td>\n",
       "    </tr>\n",
       "    <tr>\n",
       "      <th>3139</th>\n",
       "      <td>IMG/center_2016_12_01_13_37_56_368.jpg</td>\n",
       "      <td>IMG/left_2016_12_01_13_37_56_368.jpg</td>\n",
       "      <td>IMG/right_2016_12_01_13_37_56_368.jpg</td>\n",
       "      <td>0.071328</td>\n",
       "      <td>0.985533</td>\n",
       "      <td>0.0</td>\n",
       "      <td>30.18696</td>\n",
       "      <td>drive_data0</td>\n",
       "    </tr>\n",
       "  </tbody>\n",
       "</table>\n",
       "</div>"
      ],
      "text/plain": [
       "                                                 center  \\\n",
       "2906             IMG/center_2016_12_01_13_37_32_778.jpg   \n",
       "4381             IMG/center_2016_12_01_13_40_02_347.jpg   \n",
       "3651             IMG/center_2016_12_01_13_38_48_278.jpg   \n",
       "575              IMG/center_2016_12_01_13_33_36_500.jpg   \n",
       "6185             IMG/center_2016_12_01_13_43_34_096.jpg   \n",
       "4071             IMG/center_2016_12_01_13_39_30_863.jpg   \n",
       "2381  C:\\Users\\Willie\\Desktop\\driving_data\\IMG\\cente...   \n",
       "5522             IMG/center_2016_12_01_13_42_26_883.jpg   \n",
       "7012             IMG/center_2016_12_01_13_44_57_985.jpg   \n",
       "2228             IMG/center_2016_12_01_13_36_24_064.jpg   \n",
       "249   C:\\Users\\Willie\\Desktop\\driving_data\\IMG\\cente...   \n",
       "2146  C:\\Users\\Willie\\Desktop\\drive_data\\IMG\\center_...   \n",
       "2436  C:\\Users\\Willie\\Desktop\\drive_data\\IMG\\center_...   \n",
       "1066  C:\\Users\\Willie\\Desktop\\driving_data\\IMG\\cente...   \n",
       "266              IMG/center_2016_12_01_13_33_05_194.jpg   \n",
       "5652             IMG/center_2016_12_01_13_42_40_048.jpg   \n",
       "5339             IMG/center_2016_12_01_13_42_08_299.jpg   \n",
       "4344             IMG/center_2016_12_01_13_39_58_587.jpg   \n",
       "6636             IMG/center_2016_12_01_13_44_19_849.jpg   \n",
       "3139             IMG/center_2016_12_01_13_37_56_368.jpg   \n",
       "\n",
       "                                                   left  \\\n",
       "2906               IMG/left_2016_12_01_13_37_32_778.jpg   \n",
       "4381               IMG/left_2016_12_01_13_40_02_347.jpg   \n",
       "3651               IMG/left_2016_12_01_13_38_48_278.jpg   \n",
       "575                IMG/left_2016_12_01_13_33_36_500.jpg   \n",
       "6185               IMG/left_2016_12_01_13_43_34_096.jpg   \n",
       "4071               IMG/left_2016_12_01_13_39_30_863.jpg   \n",
       "2381  C:\\Users\\Willie\\Desktop\\driving_data\\IMG\\left_...   \n",
       "5522               IMG/left_2016_12_01_13_42_26_883.jpg   \n",
       "7012               IMG/left_2016_12_01_13_44_57_985.jpg   \n",
       "2228               IMG/left_2016_12_01_13_36_24_064.jpg   \n",
       "249   C:\\Users\\Willie\\Desktop\\driving_data\\IMG\\left_...   \n",
       "2146  C:\\Users\\Willie\\Desktop\\drive_data\\IMG\\left_20...   \n",
       "2436  C:\\Users\\Willie\\Desktop\\drive_data\\IMG\\left_20...   \n",
       "1066  C:\\Users\\Willie\\Desktop\\driving_data\\IMG\\left_...   \n",
       "266                IMG/left_2016_12_01_13_33_05_194.jpg   \n",
       "5652               IMG/left_2016_12_01_13_42_40_048.jpg   \n",
       "5339               IMG/left_2016_12_01_13_42_08_299.jpg   \n",
       "4344               IMG/left_2016_12_01_13_39_58_587.jpg   \n",
       "6636               IMG/left_2016_12_01_13_44_19_849.jpg   \n",
       "3139               IMG/left_2016_12_01_13_37_56_368.jpg   \n",
       "\n",
       "                                                  right  steering  throttle  \\\n",
       "2906              IMG/right_2016_12_01_13_37_32_778.jpg  0.000000  0.985533   \n",
       "4381              IMG/right_2016_12_01_13_40_02_347.jpg  0.090465  0.985533   \n",
       "3651              IMG/right_2016_12_01_13_38_48_278.jpg  0.176582  0.000000   \n",
       "575               IMG/right_2016_12_01_13_33_36_500.jpg  0.000000  0.985533   \n",
       "6185              IMG/right_2016_12_01_13_43_34_096.jpg -0.373071  0.985533   \n",
       "4071              IMG/right_2016_12_01_13_39_30_863.jpg  0.176582  0.793422   \n",
       "2381  C:\\Users\\Willie\\Desktop\\driving_data\\IMG\\right...  0.281690  0.000000   \n",
       "5522              IMG/right_2016_12_01_13_42_26_883.jpg -0.211667  0.985533   \n",
       "7012              IMG/right_2016_12_01_13_44_57_985.jpg -0.278127  0.985533   \n",
       "2228              IMG/right_2016_12_01_13_36_24_064.jpg  0.052191  0.985533   \n",
       "249   C:\\Users\\Willie\\Desktop\\driving_data\\IMG\\right... -0.713615  1.000000   \n",
       "2146  C:\\Users\\Willie\\Desktop\\drive_data\\IMG\\right_2... -0.056338  1.000000   \n",
       "2436  C:\\Users\\Willie\\Desktop\\drive_data\\IMG\\right_2... -0.065728  1.000000   \n",
       "1066  C:\\Users\\Willie\\Desktop\\driving_data\\IMG\\right... -0.615023  0.059949   \n",
       "266               IMG/right_2016_12_01_13_33_05_194.jpg  0.128740  0.985533   \n",
       "5652              IMG/right_2016_12_01_13_42_40_048.jpg -0.078746  0.985533   \n",
       "5339              IMG/right_2016_12_01_13_42_08_299.jpg -0.173689  0.985533   \n",
       "4344              IMG/right_2016_12_01_13_39_58_587.jpg -0.382565  0.918318   \n",
       "6636              IMG/right_2016_12_01_13_44_19_849.jpg -0.116723  0.985533   \n",
       "3139              IMG/right_2016_12_01_13_37_56_368.jpg  0.071328  0.985533   \n",
       "\n",
       "      brake     speed    file_path  \n",
       "2906    0.0  30.18663  drive_data0  \n",
       "4381    0.0  30.18628  drive_data0  \n",
       "3651    0.0  10.84668  drive_data0  \n",
       "575     0.0  30.18662  drive_data0  \n",
       "6185    0.0  30.18020  drive_data0  \n",
       "4071    0.0  29.36285  drive_data0  \n",
       "2381    0.0  26.70351  drive_data2  \n",
       "5522    0.0  30.18462  drive_data0  \n",
       "7012    0.0  30.18413  drive_data0  \n",
       "2228    0.0  30.18658  drive_data0  \n",
       "249     0.0  30.17643  drive_data2  \n",
       "2146    0.0  30.19009  drive_data1  \n",
       "2436    0.0  30.19040  drive_data1  \n",
       "1066    0.0  28.87677  drive_data2  \n",
       "266     0.0  30.18618  drive_data0  \n",
       "5652    0.0  30.18704  drive_data0  \n",
       "5339    0.0  30.18347  drive_data0  \n",
       "4344    0.0  30.17204  drive_data0  \n",
       "6636    0.0  30.18633  drive_data0  \n",
       "3139    0.0  30.18696  drive_data0  "
      ]
     },
     "execution_count": 16,
     "metadata": {},
     "output_type": "execute_result"
    }
   ],
   "source": [
    "train.head(20)"
   ]
  },
  {
   "cell_type": "code",
   "execution_count": 17,
   "metadata": {
    "collapsed": true
   },
   "outputs": [],
   "source": [
    "#nvidia model\n",
    "def create_model_nvidia():\n",
    "    \"\"\"Define the CNN architecture\"\"\"\n",
    "    model = Sequential()  \n",
    "    \n",
    "    # Normalize  \n",
    "    model.add(Lambda(lambda x: (x / 255.0) - 0.5, input_shape=(66, 200, 3)))\n",
    "    \n",
    "    #crop\n",
    "    #model.add(Cropping2D(cropping=((50,20), (0,0)), input_shape=(160,320,3)))\n",
    "    #model.add(Lambda(resize_images, input_shape=(66, 200, 3)))\n",
    "    \n",
    "    # Add three 5x5 convolution layers (output depth 24, 36, and 48), each with 2x2 stride  \n",
    "    model.add(Convolution2D(24, 5, 5, subsample=(2, 2), border_mode='valid', W_regularizer=l2(0.001)))  \n",
    "    model.add(ELU())  \n",
    "    model.add(Convolution2D(36, 5, 5, subsample=(2, 2), border_mode='valid', W_regularizer=l2(0.001)))  \n",
    "    model.add(ELU())  \n",
    "    model.add(Convolution2D(48, 5, 5, subsample=(2, 2), border_mode='valid', W_regularizer=l2(0.001)))  \n",
    "    model.add(ELU())  \n",
    "    #model.add(Dropout(dropout))\n",
    "    \n",
    "    # Add two 3x3 convolution layers (output depth 64, and 64)  \n",
    "    model.add(Convolution2D(64, 3, 3, border_mode='valid', W_regularizer=l2(0.001)))  \n",
    "    model.add(ELU())  \n",
    "    model.add(Convolution2D(64, 3, 3, border_mode='valid', W_regularizer=l2(0.001)))  \n",
    "    model.add(ELU())  \n",
    "    \n",
    "    # Add a flatten layer  \n",
    "    model.add(Flatten())  \n",
    "    \n",
    "    # Add three fully connected layers (depth 100, 50, 10 neurons respectively), elu activation\n",
    "    model.add(Dense(100, W_regularizer=l2(0.001)))  \n",
    "    model.add(ELU())  \n",
    "    \n",
    "    #model.add(Dropout(dropout))\n",
    "    model.add(Dense(50, W_regularizer=l2(0.001)))  \n",
    "    model.add(ELU())  \n",
    "    \n",
    "    #model.add(Dropout(dropout))\n",
    "    model.add(Dense(10, W_regularizer=l2(0.001)))  \n",
    "    model.add(ELU())  \n",
    "    \n",
    "    #model.add(Dropout(dropout))\n",
    "    # Add a fully connected output layer  \n",
    "    model.add(Dense(1))  \n",
    "    # Compile and train the model,   \n",
    "    model.compile(optimizer=\"adam\", loss=\"mse\")\n",
    "    \n",
    "    return model"
   ]
  },
  {
   "cell_type": "code",
   "execution_count": 18,
   "metadata": {
    "collapsed": true
   },
   "outputs": [],
   "source": [
    "#commaai model\n",
    "def create_model_commaai():\n",
    "    \"\"\"Define the CNN architecture\"\"\"\n",
    "    \n",
    "    ch, row, col = 3, 160, 320  # camera format\n",
    "    model = Sequential()  \n",
    "    \n",
    "    #normalize\n",
    "    model.add(Lambda(lambda x: x/127.5 - 1.,\n",
    "            input_shape=(ch, row, col),\n",
    "            output_shape=(ch, row, col)))\n",
    "    model.add(Convolution2D(16, 8, 8, subsample=(4, 4), border_mode=\"same\"))\n",
    "    model.add(ELU())\n",
    "    model.add(Convolution2D(32, 5, 5, subsample=(2, 2), border_mode=\"same\"))\n",
    "    model.add(ELU())\n",
    "    model.add(Convolution2D(64, 5, 5, subsample=(2, 2), border_mode=\"same\"))\n",
    "    model.add(Flatten())\n",
    "    model.add(Dropout(.2))\n",
    "    model.add(ELU())\n",
    "    model.add(Dense(512))\n",
    "    model.add(Dropout(.5))\n",
    "    model.add(ELU())\n",
    "    model.add(Dense(1))\n",
    "\n",
    "    model.compile(optimizer=\"adam\", loss=\"mse\")\n",
    "    \n",
    "    return model"
   ]
  },
  {
   "cell_type": "code",
   "execution_count": 19,
   "metadata": {
    "collapsed": true
   },
   "outputs": [],
   "source": [
    "def random_brightness(image):\n",
    "    \"\"\"\n",
    "    Returns an image with a random degree of brightness.\n",
    "    :param image: Image represented as a numpy array.\n",
    "    \"\"\"\n",
    "    image = cv2.cvtColor(image, cv2.COLOR_BGR2HSV)\n",
    "\n",
    "    brightness = .75 + np.random.uniform()/2\n",
    "    #print(brightness)\n",
    "    image[:,:,2] = image[:,:,2] * brightness\n",
    "    image = cv2.cvtColor(image, cv2.COLOR_HSV2BGR)\n",
    "    return image"
   ]
  },
  {
   "cell_type": "code",
   "execution_count": 20,
   "metadata": {
    "collapsed": true
   },
   "outputs": [],
   "source": [
    "def preprocess_image(image):\n",
    "    \"\"\"\n",
    "    Returns an image after applying several preprocessing functions.\n",
    "    :param image: Image represented as a numpy array.\n",
    "    \"\"\"\n",
    "    image = image[40:-20,:] #crop image\n",
    "    image = random_brightness(image) #add random brightness adjustment\n",
    "    image = cv2.resize(image, (200, 66), interpolation=cv2.INTER_AREA) #resize image\n",
    "    #image = cv2.cvtColor(image, cv2.COLOR_BGR2RGB)\n",
    "    image = cv2.cvtColor(image, cv2.COLOR_BGR2YUV)\n",
    "    return image"
   ]
  },
  {
   "cell_type": "code",
   "execution_count": 21,
   "metadata": {},
   "outputs": [
    {
     "name": "stdout",
     "output_type": "stream",
     "text": [
      "(66, 200, 3)\n"
     ]
    },
    {
     "data": {
      "image/png": "[encoded data removed]",
      "text/plain": [
       "<matplotlib.figure.Figure at 0x25b595a7828>"
      ]
     },
     "metadata": {},
     "output_type": "display_data"
    }
   ],
   "source": [
    "#inspect an random image\n",
    "index = np.random.randint(0,train.shape[0]-1)\n",
    "name = train.iloc[index][0].split('/')[-1].split('\\\\')[-1]\n",
    "path_root = train.iloc[index][7]\n",
    "path = path_root + '/IMG/' + name\n",
    "image = cv2.imread(path)\n",
    "image = preprocess_image(image)\n",
    "plt.imshow(image)\n",
    "print(image.shape)"
   ]
  },
  {
   "cell_type": "code",
   "execution_count": 27,
   "metadata": {
    "collapsed": true
   },
   "outputs": [],
   "source": [
    "#build the generator\n",
    "def generator(samples, batch_size=32):\n",
    "    \"\"\"\n",
    "    samples: a pandas dataframe containing training sample\n",
    "    batch_size: the batch size\n",
    "    \"\"\"\n",
    "    num_samples = len(samples)\n",
    "    while 1: # Loop forever so the generator never terminates\n",
    "        shuffle(samples)\n",
    "        for offset in range(0, num_samples, batch_size):\n",
    "            batch_samples = samples.iloc[offset:offset+batch_size]\n",
    "\n",
    "            images = []\n",
    "            angles = []\n",
    "            for batch_sample in batch_samples.iterrows(): #convert to pd dataframe to iterable\n",
    "                #print(batch_sample)\n",
    "                random = np.random.randint(4)\n",
    "                if random in [0,1]: #center image\n",
    "                    image_name = batch_sample[1][0]\n",
    "                    angle_adj = 0\n",
    "\n",
    "                elif random == 2: #left\n",
    "                    image_name = batch_sample[1][0]\n",
    "                    angle_adj = .25\n",
    "                    \n",
    "                elif random == 3: #right\n",
    "                    image_name = batch_sample[1][0]\n",
    "                    angle_adj = -.25\n",
    "                \n",
    "                image_name = image_name.split('/')[-1].split('\\\\')[-1]\n",
    "                \n",
    "                path_root = batch_sample[1][7]\n",
    "                path = path_root + '/IMG/' + image_name\n",
    "                \n",
    "                image = cv2.imread(path)\n",
    "                image = preprocess_image(image)\n",
    "                \n",
    "                angle = float(batch_sample[1][3]) + angle_adj\n",
    "               \n",
    "                # Flip image and apply opposite angle with probability of .5\n",
    "                if np.random.randint(2) == 1:\n",
    "                    image = cv2.flip(image, 1)\n",
    "                    angle = -angle\n",
    "                \n",
    "                images.append(image)\n",
    "                angles.append(angle)\n",
    "\n",
    "            # trim image to only see section with road\n",
    "            X_train = np.array(images)\n",
    "            y_train = np.array(angles)\n",
    "            yield shuffle(X_train, y_train)"
   ]
  },
  {
   "cell_type": "code",
   "execution_count": 28,
   "metadata": {},
   "outputs": [
    {
     "name": "stdout",
     "output_type": "stream",
     "text": [
      "Dropped 5533 rows with low steering\n",
      "Epoch 1/1\n"
     ]
    },
    {
     "name": "stderr",
     "output_type": "stream",
     "text": [
      "C:\\Users\\Willie\\Anaconda3\\envs\\tensorflow-gpu\\lib\\site-packages\\ipykernel\\__main__.py:29: UserWarning: The semantics of the Keras 2 argument `steps_per_epoch` is not the same as the Keras 1 argument `samples_per_epoch`. `steps_per_epoch` is the number of batches to draw from the generator at each epoch. Basically steps_per_epoch = samples_per_epoch/batch_size. Similarly `nb_val_samples`->`validation_steps` and `val_samples`->`steps` arguments have changed. Update your method calls accordingly.\n",
      "C:\\Users\\Willie\\Anaconda3\\envs\\tensorflow-gpu\\lib\\site-packages\\ipykernel\\__main__.py:29: UserWarning: Update your `fit_generator` call to the Keras 2 API: `fit_generator(<generator..., validation_steps=234, validation_data=<generator..., epochs=1, steps_per_epoch=4436)`\n"
     ]
    },
    {
     "name": "stdout",
     "output_type": "stream",
     "text": [
      "4436/4436 [==============================] - 352s 79ms/step - loss: 0.0684 - val_loss: 0.0584\n"
     ]
    }
   ],
   "source": [
    "if __name__==\"__main__\":\n",
    "    tf.app.flags._global_parser = _argparse.ArgumentParser() #reset flags\n",
    "    flags = tf.app.flags\n",
    "    FLAGS = flags.FLAGS\n",
    "    \n",
    "    flags.DEFINE_string('data_path', 'drive_data0/driving_log.csv', 'The path to the csv of training data.')\n",
    "    flags.DEFINE_string('save_dir', 'models/', 'The directory to which to save the model.')\n",
    "    flags.DEFINE_integer('batch_size', 128, 'The minibatch size.')\n",
    "    flags.DEFINE_integer('num_epochs', 10, 'The number of epochs to train for.')\n",
    "    flags.DEFINE_float('lrate', 0.00001, 'The learning rate for training.')\n",
    "    \n",
    "    driving_log = combine_data() #read in all the csvs\n",
    "    driving_log = randomly_drop_low_steering_data(driving_log)\n",
    "\n",
    "    # Split train and validation data\n",
    "    train, test = train_test_split(driving_log, test_size=0.05, random_state=42)\n",
    "    \n",
    "    # compile and train the model using the generator function\n",
    "    train_generator = generator(train, batch_size=32)\n",
    "    validation_generator = generator(test, batch_size=32)\n",
    "\n",
    "    #build the model\n",
    "    # model = create_model_nvidia()\n",
    "    # model.compile(loss='mse', optimizer='adam')\n",
    "    history_object = model.fit_generator(train_generator, #save the model object so you can run analysis on it later\n",
    "                        samples_per_epoch= len(train), \n",
    "                        validation_data=validation_generator, \n",
    "                        nb_val_samples=len(test), \n",
    "                        nb_epoch=1)\n",
    "\n",
    "    #save the model\n",
    "    if not os.path.exists(FLAGS.save_dir):\n",
    "        os.makedirs(FLAGS.save_dir)\n",
    "\n",
    "    json = model.to_json()\n",
    "    #model.save_weights(os.path.join(FLAGS.save_dir, 'model.h5'))\n",
    "    model.save(os.path.join(FLAGS.save_dir, 'model.h5'))\n",
    "    with open(os.path.join(FLAGS.save_dir, 'model.json'), 'w') as f:\n",
    "        f.write(json)\n",
    "    "
   ]
  },
  {
   "cell_type": "code",
   "execution_count": null,
   "metadata": {
    "collapsed": true
   },
   "outputs": [],
   "source": [
    "###visualizing the loss\n",
    "\n",
    "### print the keys contained in the history object\n",
    "print(history_object.history.keys())\n",
    "\n",
    "### plot the training and validation loss for each epoch\n",
    "plt.plot(history_object.history['loss'])\n",
    "plt.plot(history_object.history['val_loss'])\n",
    "plt.title('model mean squared error loss')\n",
    "plt.ylabel('mean squared error loss')\n",
    "plt.xlabel('epoch')\n",
    "plt.legend(['training set', 'validation set'], loc='upper right')\n",
    "plt.show()"
   ]
  },
  {
   "cell_type": "code",
   "execution_count": null,
   "metadata": {
    "collapsed": true
   },
   "outputs": [],
   "source": [
    "\"\"\"\n",
    "ideas to improve....\n",
    "\n",
    "get more data (recovery driving)\n",
    "add more preprocessing (shifts, shadows, horizon shift)\n",
    "debug the pipeline (cropping?  rgb?) - DONE\n",
    "\n",
    "test out someone elses model / pipeline and use transfer learning (lol)\n",
    "\n",
    "drive.py needs to be modified to preprocess the image\n",
    "\"\"\""
   ]
  },
  {
   "cell_type": "code",
   "execution_count": null,
   "metadata": {
    "collapsed": true
   },
   "outputs": [],
   "source": [
    "\"\"\"\n",
    "visualization ideas:\n",
    "rgb vs bgr vs yuv\n",
    "\n",
    "\"\"\""
   ]
  },
  {
   "cell_type": "code",
   "execution_count": 24,
   "metadata": {},
   "outputs": [
    {
     "name": "stderr",
     "output_type": "stream",
     "text": [
      "C:\\Users\\Willie\\Anaconda3\\envs\\tensorflow-gpu\\lib\\site-packages\\ipykernel\\__main__.py:14: UserWarning: Update your `Conv2D` call to the Keras 2 API: `Conv2D(24, (5, 5), padding=\"valid\", kernel_regularizer=<keras.reg..., strides=(2, 2))`\n",
      "C:\\Users\\Willie\\Anaconda3\\envs\\tensorflow-gpu\\lib\\site-packages\\ipykernel\\__main__.py:16: UserWarning: Update your `Conv2D` call to the Keras 2 API: `Conv2D(36, (5, 5), padding=\"valid\", kernel_regularizer=<keras.reg..., strides=(2, 2))`\n",
      "C:\\Users\\Willie\\Anaconda3\\envs\\tensorflow-gpu\\lib\\site-packages\\ipykernel\\__main__.py:18: UserWarning: Update your `Conv2D` call to the Keras 2 API: `Conv2D(48, (5, 5), padding=\"valid\", kernel_regularizer=<keras.reg..., strides=(2, 2))`\n",
      "C:\\Users\\Willie\\Anaconda3\\envs\\tensorflow-gpu\\lib\\site-packages\\ipykernel\\__main__.py:23: UserWarning: Update your `Conv2D` call to the Keras 2 API: `Conv2D(64, (3, 3), padding=\"valid\", kernel_regularizer=<keras.reg...)`\n",
      "C:\\Users\\Willie\\Anaconda3\\envs\\tensorflow-gpu\\lib\\site-packages\\ipykernel\\__main__.py:25: UserWarning: Update your `Conv2D` call to the Keras 2 API: `Conv2D(64, (3, 3), padding=\"valid\", kernel_regularizer=<keras.reg...)`\n",
      "C:\\Users\\Willie\\Anaconda3\\envs\\tensorflow-gpu\\lib\\site-packages\\ipykernel\\__main__.py:32: UserWarning: Update your `Dense` call to the Keras 2 API: `Dense(100, kernel_regularizer=<keras.reg...)`\n",
      "C:\\Users\\Willie\\Anaconda3\\envs\\tensorflow-gpu\\lib\\site-packages\\ipykernel\\__main__.py:36: UserWarning: Update your `Dense` call to the Keras 2 API: `Dense(50, kernel_regularizer=<keras.reg...)`\n",
      "C:\\Users\\Willie\\Anaconda3\\envs\\tensorflow-gpu\\lib\\site-packages\\ipykernel\\__main__.py:40: UserWarning: Update your `Dense` call to the Keras 2 API: `Dense(10, kernel_regularizer=<keras.reg...)`\n"
     ]
    }
   ],
   "source": [
    "\"\"\"transfer learning\"\"\"\n",
    "model = create_model_nvidia()\n",
    "model.load_weights('models/model.h5')"
   ]
  },
  {
   "cell_type": "code",
   "execution_count": 25,
   "metadata": {
    "collapsed": true
   },
   "outputs": [],
   "source": [
    "json = model.to_json()\n",
    "model.save_weights(os.path.join(FLAGS.save_dir, 'model.h5'))\n",
    "model.save(os.path.join(FLAGS.save_dir, 'model.h5'))\n",
    "with open(os.path.join(FLAGS.save_dir, 'model.json'), 'w') as f:\n",
    "    f.write(json)"
   ]
  },
  {
   "cell_type": "code",
   "execution_count": null,
   "metadata": {
    "collapsed": true
   },
   "outputs": [],
   "source": []
  }
 ],
 "metadata": {
  "kernelspec": {
   "display_name": "Python [conda env:tensorflow-gpu]",
   "language": "python",
   "name": "conda-env-tensorflow-gpu-py"
  },
  "language_info": {
   "codemirror_mode": {
    "name": "ipython",
    "version": 3
   },
   "file_extension": ".py",
   "mimetype": "text/x-python",
   "name": "python",
   "nbconvert_exporter": "python",
   "pygments_lexer": "ipython3",
   "version": "3.5.4"
  }
 },
 "nbformat": 4,
 "nbformat_minor": 2
}
